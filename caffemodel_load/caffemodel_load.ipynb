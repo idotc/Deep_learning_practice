{
 "metadata": {
  "name": "",
  "signature": "sha256:ad2fa0b524d07d69c48c609266707653a41bf0e9186a36af7a9e16f703248543"
 },
 "nbformat": 3,
 "nbformat_minor": 0,
 "worksheets": [
  {
   "cells": [
    {
     "cell_type": "code",
     "collapsed": false,
     "input": [
      "import caffe"
     ],
     "language": "python",
     "metadata": {},
     "outputs": [],
     "prompt_number": 1
    },
    {
     "cell_type": "code",
     "collapsed": false,
     "input": [
      "deploy = 'pose_deploy.prototxt'\n",
      "model = 'pose_iter_440000.caffemodel'\n",
      "net = caffe.Net(deploy, model, caffe.TEST)\n"
     ],
     "language": "python",
     "metadata": {},
     "outputs": [],
     "prompt_number": 2
    },
    {
     "cell_type": "code",
     "collapsed": false,
     "input": [
      "layer_analyse = [\"Mconv7_stage6_L1\",\n",
      "\"Mconv7_stage6_L2\"]\n",
      "threshold = 0.01\n",
      "for i, layer in enumerate(net.params):\n",
      "    if layer not in layer_analyse:\n",
      "        continue\n",
      "    print net.params[layer][0].data.shape"
     ],
     "language": "python",
     "metadata": {},
     "outputs": [
      {
       "output_type": "stream",
       "stream": "stdout",
       "text": [
        "(38, 128, 1, 1)\n",
        "(19, 128, 1, 1)\n"
       ]
      }
     ],
     "prompt_number": 11
    },
    {
     "cell_type": "code",
     "collapsed": false,
     "input": [],
     "language": "python",
     "metadata": {},
     "outputs": []
    }
   ],
   "metadata": {}
  }
 ]
}