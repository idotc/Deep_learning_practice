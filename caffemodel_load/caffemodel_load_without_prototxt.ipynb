{
 "metadata": {
  "name": "",
  "signature": "sha256:307565fbe538da4e15aeb2b42598ffeccb72b9e7e36694e153c9e4cedbc29580"
 },
 "nbformat": 3,
 "nbformat_minor": 0,
 "worksheets": [
  {
   "cells": [
    {
     "cell_type": "code",
     "collapsed": false,
     "input": [
      "import caffe\n",
      "import numpy as np\n",
      "import matplotlib.pyplot as plt\n",
      "%matplotlib inline"
     ],
     "language": "python",
     "metadata": {},
     "outputs": [],
     "prompt_number": 11
    },
    {
     "cell_type": "code",
     "collapsed": false,
     "input": [
      "deploy = 'pose_deploy.prototxt'\n",
      "model = 'pose_iter_440000.caffemodel'\n",
      "net = caffe.Net(deploy, model, caffe.TEST)\n"
     ],
     "language": "python",
     "metadata": {},
     "outputs": [],
     "prompt_number": 12
    },
    {
     "cell_type": "code",
     "collapsed": false,
     "input": [
      "def show_para(data,):\n",
      "    data = (data-data.min())/(data.max()-data.min())\n",
      "    n = int(np.ceil(np.sqrt(data.shape[0])))\n",
      "    padding = (((0, n**2-data.shape[0]),(0,1),(0,1))+((0,0),)*(data.ndim-3))\n",
      "    data = np.pad(data,padding, mode='constant', constant_values=1)\n",
      "    data = data.reshape((n,n)+data.shape[1:]).transpose((0,2,1,3)+tuple(range(4,data.ndim+1)))\n",
      "    data = data.reshape((n*data.shape[1], n*data.shape[3]) + data.shape[4:])\n",
      "    plt.imshow(data)\n",
      "    plt.axis('off')\n",
      "    plt.show()"
     ],
     "language": "python",
     "metadata": {},
     "outputs": [],
     "prompt_number": 13
    },
    {
     "cell_type": "code",
     "collapsed": false,
     "input": [
      "layer_analyse = [\"conv4_2\"]\n",
      "threshold = 0.01\n",
      "for i, layer in enumerate(net.params):\n",
      "    #print layer\n",
      "    if layer not in layer_analyse:\n",
      "        continue\n",
      "    data = net.params[layer][0].data\n",
      "    show_para(data)\n",
      "    print net.params[layer][0].data.shape"
     ],
     "language": "python",
     "metadata": {},
     "outputs": [
      {
       "metadata": {},
       "output_type": "display_data",
       "png": "[encoded data removed]",
       "text": [
        "<Figure size 600x400 with 1 Axes>"
       ]
      },
      {
       "output_type": "stream",
       "stream": "stdout",
       "text": [
        "(512, 512, 3, 3)\n"
       ]
      }
     ],
     "prompt_number": 18
    },
    {
     "cell_type": "code",
     "collapsed": false,
     "input": [],
     "language": "python",
     "metadata": {},
     "outputs": []
    }
   ],
   "metadata": {}
  }
 ]
}