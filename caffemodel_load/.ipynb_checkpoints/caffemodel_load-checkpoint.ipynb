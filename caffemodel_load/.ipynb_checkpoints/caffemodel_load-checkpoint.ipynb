{
 "metadata": {
  "name": "",
  "signature": "sha256:f4bcd2dd14251a44c9dc9112b87583141fed1c227dc056055a0f81475ef21721"
 },
 "nbformat": 3,
 "nbformat_minor": 0,
 "worksheets": [
  {
   "cells": [
    {
     "cell_type": "code",
     "collapsed": false,
     "input": [
      "import caffe"
     ],
     "language": "python",
     "metadata": {},
     "outputs": [],
     "prompt_number": 1
    },
    {
     "cell_type": "code",
     "collapsed": false,
     "input": [],
     "language": "python",
     "metadata": {},
     "outputs": []
    }
   ],
   "metadata": {}
  }
 ]
}