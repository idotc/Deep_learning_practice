{
 "metadata": {
  "name": "",
  "signature": "sha256:5853a33311ff13424b5629073a9509ba30b2334bc817c6b4823f914b9d88f6d4"
 },
 "nbformat": 3,
 "nbformat_minor": 0,
 "worksheets": [
  {
   "cells": [
    {
     "cell_type": "code",
     "collapsed": false,
     "input": [
      "import h5py\n",
      "import numpy as np\n",
      "import json"
     ],
     "language": "python",
     "metadata": {},
     "outputs": [],
     "prompt_number": 7
    },
    {
     "cell_type": "code",
     "collapsed": false,
     "input": [
      "total_content = []\n",
      "content = {}\n",
      "with h5py.File('test.h5', 'r') as f, open('test.json', 'w') as f1:\n",
      "    len1 = len(f['center'])\n",
      "    for i in range(12):\n",
      "        content = {}\n",
      "        content['image'] = str(f['imgname'][i])\n",
      "        content['scale'] = f['scale'][i]\n",
      "        content['center'] = list(f['center'][i])\n",
      "        total_content.append(content)\n",
      "    #print (total_content)\n",
      "    json.dump(total_content, f1)\n",
      "    "
     ],
     "language": "python",
     "metadata": {},
     "outputs": [],
     "prompt_number": 19
    },
    {
     "cell_type": "code",
     "collapsed": false,
     "input": [],
     "language": "python",
     "metadata": {},
     "outputs": []
    }
   ],
   "metadata": {}
  }
 ]
}