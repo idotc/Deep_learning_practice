{
 "metadata": {
  "name": "",
  "signature": "sha256:c3753cb832fa2437ea0edbbe859e63c1922b33b8b6813eadf258937a260da2df"
 },
 "nbformat": 3,
 "nbformat_minor": 0,
 "worksheets": [
  {
   "cells": [
    {
     "cell_type": "code",
     "collapsed": false,
     "input": [
      "import h5py\n",
      "import numpy as np\n",
      "import json"
     ],
     "language": "python",
     "metadata": {},
     "outputs": [],
     "prompt_number": 7
    },
    {
     "cell_type": "code",
     "collapsed": false,
     "input": [
      "total_content = []\n",
      "content = {}\n",
      "with h5py.File('test.h5', 'r') as f, open('test.json', 'w') as f1:\n",
      "    len1 = len(f['center'])\n",
      "    for i in range(len1):\n",
      "        content = {}\n",
      "        content['image'] = f['imgname'][i].decode('ascii')\n",
      "        content['scale'] = f['scale'][i]\n",
      "        content['center'] = list(f['center'][i])\n",
      "        total_content.append(content)\n",
      "    #print (total_content)\n",
      "    json.dump(total_content, f1)\n",
      "    "
     ],
     "language": "python",
     "metadata": {},
     "outputs": [],
     "prompt_number": 23
    },
    {
     "cell_type": "code",
     "collapsed": false,
     "input": [],
     "language": "python",
     "metadata": {},
     "outputs": []
    },
    {
     "cell_type": "code",
     "collapsed": false,
     "input": [],
     "language": "python",
     "metadata": {},
     "outputs": []
    }
   ],
   "metadata": {}
  }
 ]
}